{
  "cells": [
    {
      "cell_type": "markdown",
      "metadata": {
        "id": "view-in-github",
        "colab_type": "text"
      },
      "source": [
        "<a href=\"https://colab.research.google.com/github/mehwish80/Q3_Assigment_4_python/blob/main/04_dictionaries.ipynb\" target=\"_parent\"><img src=\"https://colab.research.google.com/assets/colab-badge.svg\" alt=\"Open In Colab\"/></a>"
      ]
    },
    {
      "cell_type": "markdown",
      "metadata": {
        "id": "wPDtLEi_HLAB"
      },
      "source": [
        "#00_count_nums"
      ]
    },
    {
      "cell_type": "code",
      "execution_count": 13,
      "metadata": {
        "colab": {
          "base_uri": "https://localhost:8080/"
        },
        "id": "SclE92M2F2gM",
        "outputId": "edce48f6-b265-4c64-f073-e00b12b568c4"
      },
      "outputs": [
        {
          "output_type": "stream",
          "name": "stdout",
          "text": [
            "Enter your number (or Exit to Quit): 5\n",
            "Enter your number (or Exit to Quit): 8\n",
            "Enter your number (or Exit to Quit): 6\n",
            "Enter your number (or Exit to Quit): 4\n",
            "Enter your number (or Exit to Quit): 8\n",
            "Enter your number (or Exit to Quit): 9\n",
            "Enter your number (or Exit to Quit): \n",
            "Invalid input, please enter a valid number or 'Exit'.\n",
            "Enter your number (or Exit to Quit): exit\n",
            "\n",
            "Number Count:\n",
            "5 appears 1 times.\n",
            "8 appears 2 times.\n",
            "6 appears 1 times.\n",
            "4 appears 1 times.\n",
            "9 appears 1 times.\n"
          ]
        }
      ],
      "source": [
        "def count_num():\n",
        "    count_dict = {}\n",
        "    while True:\n",
        "        user_num = input(\"Enter your number (or Exit to Quit): \")\n",
        "\n",
        "        if user_num.title() == 'Exit':  # Exit condition\n",
        "            break\n",
        "\n",
        "        if user_num.isdigit():  # Check if input is a valid number\n",
        "            user_num = int(user_num)  # Convert to string to store in dictionary\n",
        "            count_dict[user_num] = count_dict.get(user_num, 0) + 1\n",
        "        else:\n",
        "            print(\"Invalid input, please enter a valid number or 'Exit'.\")  # Error message\n",
        "\n",
        "    return count_dict  # Return the count dictionary\n",
        "\n",
        "def display_count(count_dict):\n",
        "    print(\"\\nNumber Count:\")\n",
        "    for key, value in count_dict.items():\n",
        "        print(f\"{key} appears {value} times.\")  # Display the number and count\n",
        "\n",
        "if __name__ == \"__main__\":\n",
        "    counts = count_num()  # Get counts from the user\n",
        "    display_count(counts)  # Display the counts\n"
      ]
    },
    {
      "cell_type": "markdown",
      "source": [
        "#01_phonebook"
      ],
      "metadata": {
        "id": "ewDufR1iBNfr"
      }
    },
    {
      "cell_type": "code",
      "source": [
        "def add_contact(phonebook):\n",
        "    name = input(\"Enter contact name: \")\n",
        "    phone = input(\"Enter contact phone number: \")\n",
        "    email = input(\"Enter contact email: \")\n",
        "\n",
        "    if name in phonebook:\n",
        "        print(f\"{name} is already in the phonebook.\")\n",
        "    else:\n",
        "        phonebook[name] = {'phone': phone, 'email': email}\n",
        "        print(f\"{name} has been added to the phonebook.\")\n",
        "\n",
        "def search_contact(phonebook):\n",
        "    name = input(\"Enter Contact name to search: \")\n",
        "    if name in phonebook:\n",
        "        print(f\" {name}: {phonebook[name]}\")\n",
        "    else:\n",
        "        print(f\"{name} not found in phonebook.\")\n",
        "\n",
        "def delete_contact(phonebook):\n",
        "    name = input(\"Enter Contact name to delete from phonebook:  \")\n",
        "    if name in phonebook:\n",
        "        del phonebook[name]\n",
        "        print(f\"{name} deleted from phonebook successfully!\")\n",
        "    else:\n",
        "        print(f\"{name} not found in phonebook.\")\n",
        "\n",
        "def display_contact(phonebook):\n",
        "    if phonebook:\n",
        "        print(\"\\nPhonebook Contact List:\")\n",
        "        for name, details in phonebook.items():  # Fix: 'name, details' instead of 'name, phone'\n",
        "            print(f\"name: {name}: Phone: {details['phone']}, Email: {details['email']}\")\n",
        "    else:\n",
        "        print(\"Phonebook is empty!\")\n",
        "\n",
        "if __name__ == \"__main__\":\n",
        "    phonebook = {}\n",
        "\n",
        "    while True:\n",
        "        print(\"\\nPhonebook Menu:\")\n",
        "        print(\"1: Add Contact\")\n",
        "        print(\"2: Search Contact\")\n",
        "        print(\"3: Delete Contact\")\n",
        "        print(\"4: Display Contacts\")\n",
        "        print(\"5: Exit\")\n",
        "\n",
        "        choice = input(\"Enter your choice (1-5): \")\n",
        "        if choice == \"1\":\n",
        "            add_contact(phonebook)\n",
        "        elif choice == \"2\":\n",
        "            search_contact(phonebook)\n",
        "        elif choice == \"3\":\n",
        "            delete_contact(phonebook)\n",
        "        elif choice == \"4\":\n",
        "            display_contact(phonebook)\n",
        "        elif choice == \"5\":\n",
        "            print(\"Exiting Phonebook. Goodbye!\")\n",
        "            break\n",
        "        else:\n",
        "            print(\"Invalid choice. Please enter a number between 1 and 5.\")\n",
        "\n",
        "\n"
      ],
      "metadata": {
        "colab": {
          "base_uri": "https://localhost:8080/"
        },
        "id": "rvsvIAnLBP6y",
        "outputId": "1d3823bd-93c5-4caf-80ec-2e1bfc88a2d8"
      },
      "execution_count": 19,
      "outputs": [
        {
          "output_type": "stream",
          "name": "stdout",
          "text": [
            "\n",
            "Phonebook Menu:\n",
            "1: Add Contact\n",
            "2: Search Contact\n",
            "3: Delete Contact\n",
            "4: Display Contacts\n",
            "5: Exit\n",
            "Enter your choice (1-5): 1\n",
            "Enter contact name: shifa\n",
            "Enter contact phone number: 12345678\n",
            "Enter contact email: abc.com\n",
            "shifa has been added to the phonebook.\n",
            "\n",
            "Phonebook Menu:\n",
            "1: Add Contact\n",
            "2: Search Contact\n",
            "3: Delete Contact\n",
            "4: Display Contacts\n",
            "5: Exit\n",
            "Enter your choice (1-5): 2\n",
            "Enter Contact name to search: shifa\n",
            " shifa: {'phone': '12345678', 'email': 'abc.com'}\n",
            "\n",
            "Phonebook Menu:\n",
            "1: Add Contact\n",
            "2: Search Contact\n",
            "3: Delete Contact\n",
            "4: Display Contacts\n",
            "5: Exit\n",
            "Enter your choice (1-5): 3\n",
            "Enter Contact name to delete from phonebook:  Laiba\n",
            "Laiba not found in phonebook.\n",
            "\n",
            "Phonebook Menu:\n",
            "1: Add Contact\n",
            "2: Search Contact\n",
            "3: Delete Contact\n",
            "4: Display Contacts\n",
            "5: Exit\n",
            "Enter your choice (1-5): 4\n",
            "\n",
            "Phonebook Contact List:\n",
            "name: shifa: Phone: 12345678, Email: abc.com\n",
            "\n",
            "Phonebook Menu:\n",
            "1: Add Contact\n",
            "2: Search Contact\n",
            "3: Delete Contact\n",
            "4: Display Contacts\n",
            "5: Exit\n",
            "Enter your choice (1-5): 5\n",
            "Exiting Phonebook. Goodbye!\n"
          ]
        }
      ]
    },
    {
      "cell_type": "markdown",
      "source": [
        "#02_pop_up_shop"
      ],
      "metadata": {
        "id": "5woUPjqETvrU"
      }
    },
    {
      "cell_type": "code",
      "source": [
        "def main():\n",
        "    fruits = {'apple': 1.5, 'mango': 50, 'grapes': 80, 'kiwi': 10, 'melon': 1.5, 'banana': 50}\n",
        "\n",
        "    total_cost = 0\n",
        "\n",
        "    for fruit_name in fruits:\n",
        "        price = fruits[fruit_name]\n",
        "\n",
        "        # Input validation for the amount the user wants to buy\n",
        "        while True:\n",
        "            try:\n",
        "                amount_bought = int(input(f\"How many {fruit_name}s do you want to buy?: \"))\n",
        "                if amount_bought < 0:  # Check for negative inputs\n",
        "                    print(\"Please enter a non-negative number.\")\n",
        "                else:\n",
        "                    break  # Exit the loop if the input is valid\n",
        "            except ValueError:\n",
        "                print(\"Please enter a valid number.\")\n",
        "\n",
        "        total_cost += (price * amount_bought)\n",
        "\n",
        "    # Display the total cost with 2 decimal places for better formatting\n",
        "    print(f\"Your total is $ {total_cost:.2f}\")\n",
        "\n",
        "\n",
        "if __name__ == '__main__':\n",
        "    main()\n"
      ],
      "metadata": {
        "colab": {
          "base_uri": "https://localhost:8080/"
        },
        "id": "td-JwcRiTylt",
        "outputId": "647e97f9-c20d-45d7-95a2-49bf88b8cee8"
      },
      "execution_count": 20,
      "outputs": [
        {
          "output_type": "stream",
          "name": "stdout",
          "text": [
            "How many apples do you want to buy?: 3 kg\n",
            "Please enter a valid number.\n",
            "How many apples do you want to buy?: 3\n",
            "How many mangos do you want to buy?: 5\n",
            "How many grapess do you want to buy?: 4\n",
            "How many kiwis do you want to buy?: \n",
            "Please enter a valid number.\n",
            "How many kiwis do you want to buy?: 6\n",
            "How many melons do you want to buy?: 4\n",
            "How many bananas do you want to buy?: 8\n",
            "Your total is $1040.50\n"
          ]
        }
      ]
    },
    {
      "cell_type": "markdown",
      "source": [
        "#03_powerful_passwords"
      ],
      "metadata": {
        "id": "o1h9dXFLX8X1"
      }
    },
    {
      "cell_type": "code",
      "source": [
        "import hashlib\n",
        "\n",
        "\n",
        "def hash_password(password):\n",
        "    # Create a SHA-256 hash object\n",
        "    return hashlib.sha256(password.encode()).hexdigest()\n",
        "\n",
        "stored_login = {\n",
        "    \"user@example.com\": hash_password(\"password123\"),\n",
        "    \"admin@example.com\": hash_password(\"adminpass\"),\n",
        "\n",
        "}\n",
        "\n",
        "def login(email,password):\n",
        "    if email in stored_login:\n",
        "        return stored_login[email] == hash_password(password)\n",
        "\n",
        "    return False\n",
        "\n",
        "\n",
        "if __name__ == \"__main__\":\n",
        "  email = input(\"Enter your Email:  \")\n",
        "  password = input(\"Enter your password: \")\n",
        "\n",
        "  if login(email,password):\n",
        "    print(\"Login Successfully! \")\n",
        "  else:\n",
        "    print(\"INvalid email or password\")\n",
        ""
      ],
      "metadata": {
        "colab": {
          "base_uri": "https://localhost:8080/"
        },
        "id": "QsBGumsLYAAk",
        "outputId": "e52d8576-1508-4b30-85a3-2a4d2ce7a6af"
      },
      "execution_count": 22,
      "outputs": [
        {
          "output_type": "stream",
          "name": "stdout",
          "text": [
            "Enter your Email:  user@example.com\n",
            "Enter your password: password123\n",
            "Login Successfully! \n"
          ]
        }
      ]
    }
  ],
  "metadata": {
    "colab": {
      "provenance": [],
      "authorship_tag": "ABX9TyM9y92fIqYxdg6eu/uVAciQ",
      "include_colab_link": true
    },
    "kernelspec": {
      "display_name": "Python 3",
      "name": "python3"
    },
    "language_info": {
      "name": "python"
    }
  },
  "nbformat": 4,
  "nbformat_minor": 0
}