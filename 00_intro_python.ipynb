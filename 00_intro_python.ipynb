{
  "nbformat": 4,
  "nbformat_minor": 0,
  "metadata": {
    "colab": {
      "provenance": [],
      "authorship_tag": "ABX9TyOPSbi2Mx+i1sJRQ5IYLGeK",
      "include_colab_link": true
    },
    "kernelspec": {
      "name": "python3",
      "display_name": "Python 3"
    },
    "language_info": {
      "name": "python"
    }
  },
  "cells": [
    {
      "cell_type": "markdown",
      "metadata": {
        "id": "view-in-github",
        "colab_type": "text"
      },
      "source": [
        "<a href=\"https://colab.research.google.com/github/mehwish80/Q3_Assigment_4_python/blob/main/00_intro_python.ipynb\" target=\"_parent\"><img src=\"https://colab.research.google.com/assets/colab-badge.svg\" alt=\"Open In Colab\"/></a>"
      ]
    },
    {
      "cell_type": "markdown",
      "source": [
        "#01_add_two_number\n"
      ],
      "metadata": {
        "id": "X0FouZqFRcyv"
      }
    },
    {
      "cell_type": "code",
      "execution_count": 4,
      "metadata": {
        "colab": {
          "base_uri": "https://localhost:8080/"
        },
        "id": "6EgGkSSBQsvm",
        "outputId": "ed3617d1-ca58-4898-a69c-045cf7d65c82"
      },
      "outputs": [
        {
          "output_type": "stream",
          "name": "stdout",
          "text": [
            "Enter your first number:  9\n",
            "Enter your second number:  8\n",
            "The TOTAL SUM OF 9  8 IS 17\n"
          ]
        }
      ],
      "source": [
        "def add():\n",
        "  first_num :int = int(input(\"Enter your first number:  \"))\n",
        "  sec_num : int = int(input(\"Enter your second number:  \"))\n",
        "  total :int = int( first_num + sec_num)\n",
        "  print(f\"The TOTAL SUM OF {first_num} AND {sec_num} iS {total}\")\n",
        "if __name__ == \"__main__\":\n",
        "  add()"
      ]
    },
    {
      "cell_type": "markdown",
      "source": [
        "#02_agreement_bot"
      ],
      "metadata": {
        "id": "iSXKIvfwT0rP"
      }
    },
    {
      "cell_type": "code",
      "source": [
        "def fav_animal():\n",
        "  animal :str = input(\"What their faverite Animal is:  \")\n",
        "  print(f\"My favourite animals is also  {animal} !\")\n",
        "\n",
        "if __name__ == \"__main__\":\n",
        "  fav_animal()"
      ],
      "metadata": {
        "colab": {
          "base_uri": "https://localhost:8080/"
        },
        "id": "a6JwLB90UOIy",
        "outputId": "98a882b2-dd94-47bf-f1a8-3b957e4a68ce"
      },
      "execution_count": 5,
      "outputs": [
        {
          "output_type": "stream",
          "name": "stdout",
          "text": [
            "What their faverite Animal is:  cow\n",
            "My favourite animals is alsocow\n"
          ]
        }
      ]
    },
    {
      "cell_type": "markdown",
      "source": [
        "#03_fahrenheit_to_celsius"
      ],
      "metadata": {
        "id": "WQpQHl8VVocg"
      }
    },
    {
      "cell_type": "code",
      "source": [
        "def temp():\n",
        "  fahr_deg :float = float(input(\"Enter your Fahrenheit degree:  \"))\n",
        "  celsius_deg = int(fahr_deg - 32) * 5.0/9.0\n",
        "  print(f\"The Temperature {fahr_deg} of {celsius_deg}\")\n",
        "\n",
        "if __name__ == \"__main__\":\n",
        "  temp()"
      ],
      "metadata": {
        "colab": {
          "base_uri": "https://localhost:8080/"
        },
        "id": "ETHDSmZYWGIT",
        "outputId": "ac38f661-0610-4768-f8b4-cd3879027509"
      },
      "execution_count": 6,
      "outputs": [
        {
          "output_type": "stream",
          "name": "stdout",
          "text": [
            "Enter your Fahrenheit degree:  65\n",
            "The Temperature 65.0 of 18.333333333333332\n"
          ]
        }
      ]
    },
    {
      "cell_type": "markdown",
      "source": [
        "#04_how_old_are_they"
      ],
      "metadata": {
        "id": "-KCajpQqYjbj"
      }
    },
    {
      "cell_type": "code",
      "source": [
        "def add_ages():\n",
        "\n",
        "  Anton : int = 21\n",
        "  Beth : int = Anton + 6\n",
        "  Chen : int = Beth +20\n",
        "  Drew : int = Chen + Anton\n",
        "  Ethan : int = Chen\n",
        "  print(\"Anthon is: \" + str(Anton))\n",
        "  print(\"Beth is: \" + str(Beth))\n",
        "  print(\"Chen is: \" + str(Chen))\n",
        "  print(\"Drew is: \" + str(Drew))\n",
        "  print(\"Anthon is: \" + str(Ethan))\n",
        "\n",
        "if __name__ == \"__main__\":\n",
        "  add_ages()\n",
        ""
      ],
      "metadata": {
        "colab": {
          "base_uri": "https://localhost:8080/"
        },
        "id": "50oTzHfwY1Jz",
        "outputId": "301f57fd-f104-4f2a-da90-2e372e16d49b"
      },
      "execution_count": 10,
      "outputs": [
        {
          "output_type": "stream",
          "name": "stdout",
          "text": [
            "Anthon is: 21\n",
            "Beth is: 27\n",
            "Chen is: 47\n",
            "Drew is: 68\n",
            "Anthon is: 47\n"
          ]
        }
      ]
    },
    {
      "cell_type": "markdown",
      "source": [],
      "metadata": {
        "id": "BOP0_Wt5c3HJ"
      }
    },
    {
      "cell_type": "markdown",
      "source": [
        "#05_triangle_perimeter"
      ],
      "metadata": {
        "id": "631zD0Ixc3lF"
      }
    },
    {
      "cell_type": "code",
      "source": [
        "def triangle_per():\n",
        "  side1 :float = float(input(\"Enter your first side number: \"))\n",
        "  side2 :float = float(input(\"Enter your second side number: \"))\n",
        "  side3 :float = float(input(\"Enter your third side number: \"))\n",
        "  total_per: float = side1 + side2 + side3\n",
        "  print(f\"The perimeter of the triangle is: {total_per} \")\n",
        "\n",
        "if __name__ == \"__main__\":\n",
        "  triangle_per()\n",
        "\n",
        "\n"
      ],
      "metadata": {
        "colab": {
          "base_uri": "https://localhost:8080/"
        },
        "id": "lmhdLyTTdNWA",
        "outputId": "1f9a30da-ae66-4661-c900-a13bdfac9fce"
      },
      "execution_count": 12,
      "outputs": [
        {
          "output_type": "stream",
          "name": "stdout",
          "text": [
            "Enter your first side number: 40\n",
            "Enter your second side number: 30\n",
            "Enter your third side number: 45\n",
            "The perimeter of the triangle is: 115.0 \n"
          ]
        }
      ]
    },
    {
      "cell_type": "markdown",
      "source": [
        "#06_square_number"
      ],
      "metadata": {
        "id": "a5VfRXPvfb5e"
      }
    },
    {
      "cell_type": "code",
      "source": [
        "def square():\n",
        "  squ_num : int= int(input(\"Enter any number and i will give a square value: \"))\n",
        "  print(f\"the square of {squ_num}  is : {squ_num ** 2}\")\n",
        "\n",
        "if __name__ == \"__main__\":\n",
        "  square()\n"
      ],
      "metadata": {
        "colab": {
          "base_uri": "https://localhost:8080/"
        },
        "id": "lB-HRsRLfxpO",
        "outputId": "eee712e3-5d3b-447c-9712-707c76028df8"
      },
      "execution_count": 15,
      "outputs": [
        {
          "output_type": "stream",
          "name": "stdout",
          "text": [
            "Enter any number and i will give a square value: 5\n",
            "the square of 5  is :25\n"
          ]
        }
      ]
    }
  ]
}