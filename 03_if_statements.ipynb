{
  "nbformat": 4,
  "nbformat_minor": 0,
  "metadata": {
    "colab": {
      "provenance": [],
      "authorship_tag": "ABX9TyPetBqq3/iFVpR3iDf21Mq4",
      "include_colab_link": true
    },
    "kernelspec": {
      "name": "python3",
      "display_name": "Python 3"
    },
    "language_info": {
      "name": "python"
    }
  },
  "cells": [
    {
      "cell_type": "markdown",
      "metadata": {
        "id": "view-in-github",
        "colab_type": "text"
      },
      "source": [
        "<a href=\"https://colab.research.google.com/github/mehwish80/Q3_Assigment_4_python/blob/main/03_if_statements.ipynb\" target=\"_parent\"><img src=\"https://colab.research.google.com/assets/colab-badge.svg\" alt=\"Open In Colab\"/></a>"
      ]
    },
    {
      "cell_type": "markdown",
      "source": [
        "#01_print_events\n"
      ],
      "metadata": {
        "id": "dyn4kF8gh_hz"
      }
    },
    {
      "cell_type": "code",
      "execution_count": null,
      "metadata": {
        "colab": {
          "base_uri": "https://localhost:8080/"
        },
        "id": "neN8dKsdh4_w",
        "outputId": "82ced114-4ab8-4072-e770-d6c002c57d7d"
      },
      "outputs": [
        {
          "output_type": "stream",
          "name": "stdout",
          "text": [
            "2 * 1 = 2\n",
            "2 * 2 = 4\n",
            "2 * 3 = 6\n",
            "2 * 4 = 8\n",
            "2 * 5 = 10\n",
            "2 * 6 = 12\n",
            "2 * 7 = 14\n",
            "2 * 8 = 16\n",
            "2 * 9 = 18\n",
            "2 * 10 = 20\n",
            "2 * 11 = 22\n",
            "2 * 12 = 24\n",
            "2 * 13 = 26\n",
            "2 * 14 = 28\n",
            "2 * 15 = 30\n",
            "2 * 16 = 32\n",
            "2 * 17 = 34\n",
            "2 * 18 = 36\n",
            "2 * 19 = 38\n"
          ]
        }
      ],
      "source": [
        "def even_num():\n",
        "  for i in range(1,20):\n",
        "   even = i *2\n",
        "   print(f'2 * {i} = {even}')\n",
        "if __name__ == \"__main__\":\n",
        "  even_num()"
      ]
    },
    {
      "cell_type": "markdown",
      "source": [
        "#02_international_voting_age"
      ],
      "metadata": {
        "id": "dwg_tTjtjw4l"
      }
    },
    {
      "cell_type": "code",
      "source": [
        "Peturksbouipo: int = 16\n",
        "Stanlau :int= 25\n",
        "Mayengua : int= 48\n",
        "def vote():\n",
        "  userid :int = int(input(\"Enter your age:  \"))\n",
        "  if userid >= Peturksbouipo:\n",
        "    print(f\"Your are age:{userid} and you are eligible for vote Peturksbouipo\")\n",
        "  else:\n",
        "    print(f\"You cannot vote in Stanlau because your age:{userid} where the voting age is: {Peturksbouipo}\")\n",
        "\n",
        "  if userid >= Stanlau:\n",
        "      print(f\"Your are age:{userid} and you are eligible for vote Stanlau\")\n",
        "  else:\n",
        "    print(f\"You cannot vote in Stanlau because your age:{userid} where the voting age is: {Stanlau }\")\n",
        "\n",
        "  if userid >= Mayengua:\n",
        "    print(f\"Your are age:{userid} and you are eligible for vote Mayengua\")\n",
        "  else:\n",
        "    print(f\"You cannot vote in Stanlau because your age:{userid} where the voting age is: {Mayengua}\")\n",
        "\n",
        "if __name__ == '__main__':\n",
        "  vote()\n"
      ],
      "metadata": {
        "colab": {
          "base_uri": "https://localhost:8080/"
        },
        "id": "hXoXGpM2kBBj",
        "outputId": "fa32677b-8b12-4e8e-b6bd-5afbe5fbc076"
      },
      "execution_count": 12,
      "outputs": [
        {
          "output_type": "stream",
          "name": "stdout",
          "text": [
            "Enter your age:  40\n",
            "Your are age:40 and you are eligible for vote Peturksbouipo\n",
            "Your are age:40 and you are eligible for vote Stanlau\n",
            "You cannot vote in Stanlau because your age:40 where the voting age is: 48\n"
          ]
        }
      ]
    },
    {
      "cell_type": "markdown",
      "source": [
        "#03_leap_year"
      ],
      "metadata": {
        "id": "CqeZpcBFooJF"
      }
    },
    {
      "cell_type": "code",
      "source": [
        "def main():\n",
        "\n",
        "    year = int(input('Please input a year: '))\n",
        "\n",
        "    if year % 4 == 0:\n",
        "        if year % 100 == 0:\n",
        "            if year % 400 == 0:\n",
        "                print(\"That's a leap year!\")\n",
        "            else:\n",
        "                print(\"That's not a leap year.\")\n",
        "        else:\n",
        "            print(\"That's a leap year!\")\n",
        "    else:\n",
        "        print(\"That's not a leap year.\")\n",
        "\n",
        "\n",
        "if __name__ == '__main__':\n",
        "    main()"
      ],
      "metadata": {
        "colab": {
          "base_uri": "https://localhost:8080/"
        },
        "id": "rngZqilopX_s",
        "outputId": "f2d50a49-ddb8-485b-b852-a45e8599fe86"
      },
      "execution_count": null,
      "outputs": [
        {
          "output_type": "stream",
          "name": "stdout",
          "text": [
            "Please input a year: 2003\n",
            "That's not a leap year.\n"
          ]
        }
      ]
    },
    {
      "cell_type": "markdown",
      "source": [
        "#04_tall_enough_to_ride"
      ],
      "metadata": {
        "id": "XGJZAdlqrUz2"
      }
    },
    {
      "cell_type": "code",
      "source": [
        "def main():\n",
        "  minimum_height:int = 50\n",
        "  user_height :int =int(input(\"How tall are you?: \"))\n",
        "  if(user_height >= minimum_height ):\n",
        "     print(\"You're tall enough to ride!\")\n",
        "  else:\n",
        "    print(\"You're not tall enough to ride, but maybe next year!\")\n",
        "if __name__ == \"__main__\":\n",
        "  main()"
      ],
      "metadata": {
        "id": "YsvP84w3rXH9",
        "colab": {
          "base_uri": "https://localhost:8080/"
        },
        "outputId": "851f52d8-8915-4214-cb46-e7b9c5460379"
      },
      "execution_count": 8,
      "outputs": [
        {
          "output_type": "stream",
          "name": "stdout",
          "text": [
            "How tall are you?: 30\n",
            "You're not tall enough to ride, but maybe next year!\n"
          ]
        }
      ]
    },
    {
      "cell_type": "markdown",
      "source": [
        "#05_random_numbers"
      ],
      "metadata": {
        "id": "aqhxLYX8AlHa"
      }
    },
    {
      "cell_type": "code",
      "source": [
        "import random\n",
        "\n",
        "def main():\n",
        "  for i in range(10):\n",
        "    num : list[int] = random.randint(1,100)\n",
        "    print(num)\n",
        "if __name__ == \"__main__\":\n",
        "  main()"
      ],
      "metadata": {
        "colab": {
          "base_uri": "https://localhost:8080/"
        },
        "id": "nxcyCdhlAw55",
        "outputId": "6d9f393f-37a6-45a7-8d1a-e137f50710b1"
      },
      "execution_count": 11,
      "outputs": [
        {
          "output_type": "stream",
          "name": "stdout",
          "text": [
            "75\n",
            "2\n",
            "24\n",
            "8\n",
            "94\n",
            "45\n",
            "90\n",
            "52\n",
            "16\n",
            "37\n"
          ]
        }
      ]
    }
  ]
}