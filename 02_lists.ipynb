{
  "cells": [
    {
      "cell_type": "markdown",
      "metadata": {
        "id": "view-in-github",
        "colab_type": "text"
      },
      "source": [
        "<a href=\"https://colab.research.google.com/github/mehwish80/Q3_Assigment_4_python/blob/main/02_lists.ipynb\" target=\"_parent\"><img src=\"https://colab.research.google.com/assets/colab-badge.svg\" alt=\"Open In Colab\"/></a>"
      ]
    },
    {
      "cell_type": "markdown",
      "metadata": {
        "id": "4MUQV2C2S-3F"
      },
      "source": [
        "#01_add_many_number"
      ]
    },
    {
      "cell_type": "code",
      "execution_count": null,
      "metadata": {
        "colab": {
          "base_uri": "https://localhost:8080/"
        },
        "id": "FtVg76QMNAFK",
        "outputId": "70b20d0f-f78f-40f6-ae21-917e5fd54c16"
      },
      "outputs": [
        {
          "name": "stdout",
          "output_type": "stream",
          "text": [
            "15\n"
          ]
        }
      ],
      "source": [
        "def add_num(numbers)->int:\n",
        "  num :int = 0\n",
        "  for i in numbers:\n",
        "   num += i\n",
        "  return num\n",
        "\n",
        "def main():\n",
        "  numbers = [1,2,3,4,5]\n",
        "  sum_num = add_num(numbers)\n",
        "  print(sum_num)\n",
        "\n",
        "if __name__ == \"__main__\":\n",
        "  main()"
      ]
    },
    {
      "cell_type": "markdown",
      "metadata": {
        "id": "VXieUccVXQXe"
      },
      "source": [
        "#*02_double_list*"
      ]
    },
    {
      "cell_type": "code",
      "execution_count": null,
      "metadata": {
        "colab": {
          "base_uri": "https://localhost:8080/"
        },
        "id": "8GrfkVufXYBu",
        "outputId": "9d9b03e8-4450-4322-d322-ecd9869ac331"
      },
      "outputs": [
        {
          "name": "stdout",
          "output_type": "stream",
          "text": [
            "10\n",
            "[2, 4, 6, 8, 10]\n"
          ]
        }
      ],
      "source": [
        "def double_list():\n",
        "  # List of numbers\n",
        "  numbers: list[int] = [1, 2, 3, 4, 5]\n",
        "\n",
        "  # Loop through the list using index\n",
        "  for i in range(len(numbers)):\n",
        "    # Get the current number at the index\n",
        "    index = numbers[i]\n",
        "    # Double the value and assign it back to the same position\n",
        "    numbers[i] = index * 2\n",
        "\n",
        "  # Print the last element in the updated list (this will only print the last value from the loop)\n",
        "  print(numbers[i])\n",
        "\n",
        "  # Print the entire updated list after doubling all elements\n",
        "  print(numbers)\n",
        "\n",
        "if __name__ == \"__main__\":\n",
        "  double_list()\n",
        "\n"
      ]
    },
    {
      "cell_type": "markdown",
      "metadata": {
        "id": "DMBUo9p0cJ_w"
      },
      "source": [
        "#04_flowing_with_data_structures"
      ]
    },
    {
      "cell_type": "code",
      "execution_count": null,
      "metadata": {
        "colab": {
          "base_uri": "https://localhost:8080/"
        },
        "id": "xkrJ5Tm0cNPT",
        "outputId": "374a0050-00db-45eb-9681-7b474a2ef555"
      },
      "outputs": [
        {
          "name": "stdout",
          "output_type": "stream",
          "text": [
            "Enter a message copy! mehwish\n",
            "Before List: []\n",
            "After list:  ['mehwish', 'mehwish', 'mehwish']\n"
          ]
        }
      ],
      "source": [
        "def add_three_copies(lst,data):\n",
        "  for i in range(3):\n",
        "   lst.append(data)\n",
        "\n",
        "\n",
        "def main():\n",
        "  message = input(\"Enter a message copy! \")\n",
        "  lst=[]\n",
        "  print(\"Before List:\",  lst)\n",
        "  add_three_copies(lst,message)\n",
        "  print(\"After list: \" , lst)\n",
        "\n",
        "if __name__ == \"__main__\":\n",
        "  main()\n"
      ]
    },
    {
      "cell_type": "markdown",
      "metadata": {
        "id": "-a5RL5tISdgw"
      },
      "source": [
        "#05_get_first_element"
      ]
    },
    {
      "cell_type": "code",
      "execution_count": 3,
      "metadata": {
        "colab": {
          "base_uri": "https://localhost:8080/"
        },
        "id": "MJJ8RQb0SfKP",
        "outputId": "97b35cf9-c136-407a-b9bd-b9a468e3c0c6"
      },
      "outputs": [
        {
          "output_type": "stream",
          "name": "stdout",
          "text": [
            "Please enter an element of the list (or press Enter to stop): j\n",
            "Please enter an element of the list (or press Enter to stop): k\n",
            "Please enter an element of the list (or press Enter to stop): l\n",
            "Please enter an element of the list (or press Enter to stop): m\n",
            "Please enter an element of the list (or press Enter to stop): \n",
            "j\n"
          ]
        }
      ],
      "source": [
        "def get_first_element(lst):\n",
        "   print(lst[0])\n",
        "\n",
        "def get_list():\n",
        "  lst = []\n",
        "  element = input(\"Please enter an element of the list (or press Enter to stop): \")\n",
        "  while element != \"\":  # Continue until the user enters an empty string\n",
        "    lst.append(element)\n",
        "    element = input(\"Please enter an element of the list (or press Enter to stop): \")\n",
        "  return lst  # Move this outside of the while loop\n",
        "\n",
        "def main():\n",
        "  lst = get_list()  # Call the get_list function with parentheses\n",
        "  if lst:  # Ensure the list is not empty before trying to get the first element\n",
        "    get_first_element(lst)\n",
        "  else:\n",
        "    print(\"The list is empty.\")\n",
        "\n",
        "if __name__ == \"__main__\":\n",
        "  main()\n",
        "\n"
      ]
    },
    {
      "cell_type": "markdown",
      "source": [
        "#06_get_last_element"
      ],
      "metadata": {
        "id": "cQkO7pqS6wpo"
      }
    },
    {
      "cell_type": "code",
      "source": [
        "def get_last_element(lst):\n",
        "   print(lst[-1])\n",
        "\n",
        "def get_list():\n",
        "  lst = []\n",
        "  element = input(\"Please enter an element of the list (or press Enter to stop): \")\n",
        "  while element != \"\":  # Continue until the user enters an empty string\n",
        "    lst.append(element)\n",
        "    element = input(\"Please enter an element of the list (or press Enter to stop): \")\n",
        "  return lst  # Move this outside of the while loop\n",
        "\n",
        "def main():\n",
        "  lst = get_list()  # Call the get_list function with parentheses\n",
        "  if lst:  # Ensure the list is not empty before trying to get the first element\n",
        "    get_last_element(lst)\n",
        "  else:\n",
        "    print(\"The list is empty.\")\n",
        "\n",
        "if __name__ == \"__main__\":\n",
        "  main()\n"
      ],
      "metadata": {
        "colab": {
          "base_uri": "https://localhost:8080/"
        },
        "id": "TMHiaQS369Cd",
        "outputId": "62b04ba9-824d-46f5-cc53-1b328b8ff5c8"
      },
      "execution_count": 4,
      "outputs": [
        {
          "output_type": "stream",
          "name": "stdout",
          "text": [
            "Please enter an element of the list (or press Enter to stop): h\n",
            "Please enter an element of the list (or press Enter to stop): l\n",
            "Please enter an element of the list (or press Enter to stop): j\n",
            "Please enter an element of the list (or press Enter to stop): y\n",
            "Please enter an element of the list (or press Enter to stop): \n",
            "y\n"
          ]
        }
      ]
    },
    {
      "cell_type": "markdown",
      "source": [
        "#07_get_list"
      ],
      "metadata": {
        "id": "xlQcsFmR7Zz3"
      }
    },
    {
      "cell_type": "code",
      "source": [
        "def main():\n",
        "    lst = []\n",
        "\n",
        "    val = input(\"Enter a value: \")\n",
        "    while val:\n",
        "        lst.append(val) # Add val to list\n",
        "        val = input(\"Enter a value: \")  # Get the next value to add\n",
        "\n",
        "    print(\"Here's the list:\", lst)\n",
        "\n",
        "\n",
        "# There is no need to edit code beyond this point\n",
        "\n",
        "if __name__ == '__main__':\n",
        "    main()"
      ],
      "metadata": {
        "colab": {
          "base_uri": "https://localhost:8080/"
        },
        "id": "hk-os_FA7gWt",
        "outputId": "eb8e52b6-9ab8-40b8-c604-8873e0d449bf"
      },
      "execution_count": 5,
      "outputs": [
        {
          "output_type": "stream",
          "name": "stdout",
          "text": [
            "Enter a value: mango\n",
            "Enter a value: banana\n",
            "Enter a value: orange\n",
            "Enter a value: melon\n",
            "Enter a value: \n",
            "Here's the list: ['mango', 'banana', 'orange', 'melon']\n"
          ]
        }
      ]
    },
    {
      "cell_type": "markdown",
      "source": [
        "#08_shorten\n"
      ],
      "metadata": {
        "id": "mIwiyLRv7_FX"
      }
    },
    {
      "cell_type": "code",
      "source": [
        "MAX_LENGTH : int = 3\n",
        "\n",
        "def shorten(lst):\n",
        "    while len(lst) >= MAX_LENGTH:\n",
        "        last_elem = lst.pop()\n",
        "        print(last_elem)\n",
        "\n",
        "\n",
        "\n",
        "def get_lst():\n",
        "\n",
        "    lst = []\n",
        "    elem = input(\"Please enter an element of the list or press enter to stop. \")\n",
        "    while elem != \"\":\n",
        "        lst.append(elem)\n",
        "        elem = input(\"Please enter an element of the list or press enter to stop. \")\n",
        "    return lst\n",
        "\n",
        "def main():\n",
        "    lst = get_lst()\n",
        "    shorten(lst)\n",
        "\n",
        "\n",
        "if __name__ == '__main__':\n",
        "    main()\n"
      ],
      "metadata": {
        "colab": {
          "base_uri": "https://localhost:8080/"
        },
        "id": "dg6gRcqi8zVe",
        "outputId": "a1a3521e-d9fa-4c0d-8378-0e09001baad0"
      },
      "execution_count": 11,
      "outputs": [
        {
          "output_type": "stream",
          "name": "stdout",
          "text": [
            "Please enter an element of the list or press enter to stop. tution\n",
            "Please enter an element of the list or press enter to stop. school\n",
            "Please enter an element of the list or press enter to stop. eat\n",
            "Please enter an element of the list or press enter to stop. go bazar\n",
            "Please enter an element of the list or press enter to stop. clean home\n",
            "Please enter an element of the list or press enter to stop. \n",
            "clean home\n",
            "go bazar\n",
            "eat\n"
          ]
        }
      ]
    }
  ],
  "metadata": {
    "colab": {
      "provenance": [],
      "authorship_tag": "ABX9TyPAsVITwrXFWu0kpG8mQpde",
      "include_colab_link": true
    },
    "kernelspec": {
      "display_name": "Python 3",
      "name": "python3"
    },
    "language_info": {
      "name": "python"
    }
  },
  "nbformat": 4,
  "nbformat_minor": 0
}