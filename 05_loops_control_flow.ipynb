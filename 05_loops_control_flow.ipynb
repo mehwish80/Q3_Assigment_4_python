{
  "nbformat": 4,
  "nbformat_minor": 0,
  "metadata": {
    "colab": {
      "provenance": [],
      "authorship_tag": "ABX9TyOLWJq3pX6Of2WkCStswJGz",
      "include_colab_link": true
    },
    "kernelspec": {
      "name": "python3",
      "display_name": "Python 3"
    },
    "language_info": {
      "name": "python"
    }
  },
  "cells": [
    {
      "cell_type": "markdown",
      "metadata": {
        "id": "view-in-github",
        "colab_type": "text"
      },
      "source": [
        "<a href=\"https://colab.research.google.com/github/mehwish80/Q3_Assigment_4_python/blob/main/05_loops_control_flow.ipynb\" target=\"_parent\"><img src=\"https://colab.research.google.com/assets/colab-badge.svg\" alt=\"Open In Colab\"/></a>"
      ]
    },
    {
      "cell_type": "markdown",
      "source": [
        "#00_guess_my_number"
      ],
      "metadata": {
        "id": "axbm4jwpgn3u"
      }
    },
    {
      "cell_type": "code",
      "source": [
        "import random\n",
        "\n",
        "def main():\n",
        "    number = random.randint(1, 100)  # Random number between 1 and 100\n",
        "    print(\"I am thinking of a magic number between 1 and 100\")\n",
        "\n",
        "    # Start with a guess\n",
        "    user_guess = int(input(\"Enter your guess number: \"))\n",
        "\n",
        "    while user_guess != number:\n",
        "        if user_guess < number:\n",
        "            print(\"Your guess number is too low\")\n",
        "        else:\n",
        "            print(\"Your guess number is too high\")\n",
        "\n",
        "        # Ask for new guess inside the loop\n",
        "        user_guess = int(input(\"Enter your guess number: \"))\n",
        "\n",
        "    # Once the user guesses correctly\n",
        "    print(f\"Congratulations! Your guess number: {user_guess} is right!\")\n",
        "\n",
        "if __name__ == \"__main__\":\n",
        "    main()\n"
      ],
      "metadata": {
        "colab": {
          "base_uri": "https://localhost:8080/"
        },
        "id": "2HdFXo7Xl_yV",
        "outputId": "e032acb3-72c7-4b06-a72e-9452777ae40a"
      },
      "execution_count": 15,
      "outputs": [
        {
          "output_type": "stream",
          "name": "stdout",
          "text": [
            "I am thinking of a magic number between 1 and 100\n",
            "Enter your guess number: 56\n",
            "Your guess number is too low\n",
            "Enter your guess number: 78\n",
            "Your guess number is too high\n",
            "Enter your guess number: 75\n",
            "Your guess number is too high\n",
            "Enter your guess number: 70\n",
            "Your guess number is too high\n",
            "Enter your guess number: 60\n",
            "Your guess number is too low\n",
            "Enter your guess number: 65\n",
            "Congratulations! Your guess number: 65 is right!\n"
          ]
        }
      ]
    },
    {
      "cell_type": "markdown",
      "source": [
        "#/01_fibonacci"
      ],
      "metadata": {
        "id": "dOU_QoTSl0fn"
      }
    },
    {
      "cell_type": "code",
      "source": [
        "max_value = 10000\n",
        "\n",
        "def main():\n",
        "  a,b = 0,1\n",
        "  print(a,b, end= \" \")\n",
        "  while True:\n",
        "    c = a+b\n",
        "    if c >= max_value:\n",
        "      break\n",
        "    print(c, end= \" \")\n",
        "    a,b = b,c\n",
        "if __name__ == \"__main__\":\n",
        "  main()"
      ],
      "metadata": {
        "colab": {
          "base_uri": "https://localhost:8080/"
        },
        "id": "u-D-2ZaYl3T9",
        "outputId": "01ac451d-2c38-4e46-89ae-2526005cc4eb"
      },
      "execution_count": 2,
      "outputs": [
        {
          "metadata": {
            "tags": null
          },
          "name": "stdout",
          "output_type": "stream",
          "text": [
            "0 1 1 2 3 5 8 13 21 34 55 89 144 233 377 610 987 1597 2584 4181 6765 "
          ]
        }
      ]
    },
    {
      "cell_type": "markdown",
      "source": [
        "#02_print_events"
      ],
      "metadata": {
        "id": "s_C5-bQDpL7-"
      }
    },
    {
      "cell_type": "code",
      "source": [
        "def main():\n",
        "    for i in range(20):  # Loop will run 40 times\n",
        "        print(i * 2)  # Prints i*2 for each iteration, starting from 0\n",
        "\n",
        "if __name__ == \"__main__\":\n",
        "    main()\n",
        ""
      ],
      "metadata": {
        "colab": {
          "base_uri": "https://localhost:8080/"
        },
        "id": "gdxzx-gvpRR2",
        "outputId": "06b97884-98ec-4b1f-8ca6-71d37abeb88e"
      },
      "execution_count": 14,
      "outputs": [
        {
          "output_type": "stream",
          "name": "stdout",
          "text": [
            "0\n",
            "2\n",
            "4\n",
            "6\n",
            "8\n",
            "10\n",
            "12\n",
            "14\n",
            "16\n",
            "18\n",
            "20\n",
            "22\n",
            "24\n",
            "26\n",
            "28\n",
            "30\n",
            "32\n",
            "34\n",
            "36\n",
            "38\n"
          ]
        }
      ]
    },
    {
      "cell_type": "markdown",
      "source": [
        "#03_wholesome_machine\n"
      ],
      "metadata": {
        "id": "olo2CexmqZp4"
      }
    },
    {
      "cell_type": "code",
      "source": [
        "correct_affermation = \"I am capable of doing anything I put my mind to.\"\n",
        "def main():\n",
        "  print(\"Welcome to the wholesome machine \")\n",
        "  while True:\n",
        "    user_input = input(\"Please type the following affirmation: \" + correct_affermation)\n",
        "    if user_input == correct_affermation:\n",
        "      print(\"Thats Right\")\n",
        "      break\n",
        "    else:\n",
        "      print(\"That was not the affirmation please try again.\")\n",
        "\n",
        "if __name__ == \"__main__\":\n",
        "  main()"
      ],
      "metadata": {
        "colab": {
          "base_uri": "https://localhost:8080/"
        },
        "id": "kIGIG5XHqceN",
        "outputId": "903b0455-4d43-429c-bf0a-cb9b3ce4611c"
      },
      "execution_count": 7,
      "outputs": [
        {
          "output_type": "stream",
          "name": "stdout",
          "text": [
            "Welcome to the wholesome machine \n",
            "Please type the following affirmation: I am capable of doing anything I put my mind to.ok\n",
            "That was not the affirmation please try again.\n",
            "Please type the following affirmation: I am capable of doing anything I put my mind to.I am capable of doing anything I put my mind to.\n",
            "Thats Right\n"
          ]
        }
      ]
    },
    {
      "cell_type": "markdown",
      "source": [
        "#04_liftoff"
      ],
      "metadata": {
        "id": "B6E280X4s1eF"
      }
    },
    {
      "cell_type": "code",
      "source": [
        "def main():\n",
        "    for i in range(10, 0, -1):  # Loop from 10 to 1 (exclusive of 0)\n",
        "        print(i, end=\" \")  # Print numbers on the same line with space\n",
        "    print(\"liftoff\")  # Print \"liftoff\" after the loop finishes\n",
        "\n",
        "if __name__ == \"__main__\":\n",
        "    main()\n",
        "\n"
      ],
      "metadata": {
        "colab": {
          "base_uri": "https://localhost:8080/"
        },
        "id": "gj86bhL6s30U",
        "outputId": "091f706a-45aa-4bc4-aa7a-9c5a70404dfa"
      },
      "execution_count": 6,
      "outputs": [
        {
          "output_type": "stream",
          "name": "stdout",
          "text": [
            "10 9 8 7 6 5 4 3 2 1 liftoff\n"
          ]
        }
      ]
    },
    {
      "cell_type": "markdown",
      "source": [
        "#/05_double_it"
      ],
      "metadata": {
        "id": "UTEAw9_dxlNu"
      }
    },
    {
      "cell_type": "code",
      "source": [
        "def main():\n",
        "  user_value = int(input(\"Enter a number: \"))\n",
        "  while user_value < 100:\n",
        "    user_value = user_value * 2\n",
        "    print(user_value)\n",
        "\n",
        "if __name__ == \"__main__\":\n",
        "    main()"
      ],
      "metadata": {
        "id": "HJspNTdVxxzN",
        "outputId": "7a327411-f707-4b78-94ca-97cfbccbe568",
        "colab": {
          "base_uri": "https://localhost:8080/"
        }
      },
      "execution_count": 5,
      "outputs": [
        {
          "output_type": "stream",
          "name": "stdout",
          "text": [
            "Enter a number: 2\n",
            "4\n",
            "8\n",
            "16\n",
            "32\n",
            "64\n",
            "128\n"
          ]
        }
      ]
    }
  ]
}