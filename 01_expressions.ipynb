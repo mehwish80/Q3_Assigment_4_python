{
  "nbformat": 4,
  "nbformat_minor": 0,
  "metadata": {
    "colab": {
      "provenance": [],
      "authorship_tag": "ABX9TyMk42eVviXv6KdVZfIqbBeh",
      "include_colab_link": true
    },
    "kernelspec": {
      "name": "python3",
      "display_name": "Python 3"
    },
    "language_info": {
      "name": "python"
    }
  },
  "cells": [
    {
      "cell_type": "markdown",
      "metadata": {
        "id": "view-in-github",
        "colab_type": "text"
      },
      "source": [
        "<a href=\"https://colab.research.google.com/github/mehwish80/Q3_Assigment_4_python/blob/main/01_expressions.ipynb\" target=\"_parent\"><img src=\"https://colab.research.google.com/assets/colab-badge.svg\" alt=\"Open In Colab\"/></a>"
      ]
    },
    {
      "cell_type": "markdown",
      "source": [
        "#01_dicesimulator"
      ],
      "metadata": {
        "id": "T9DUAj3PXzXW"
      }
    },
    {
      "cell_type": "code",
      "execution_count": 23,
      "metadata": {
        "colab": {
          "base_uri": "https://localhost:8080/"
        },
        "id": "ECS7NpJ_WKOQ",
        "outputId": "dab7fec5-156e-4ba5-c272-4c5b817b1dd8"
      },
      "outputs": [
        {
          "output_type": "stream",
          "name": "stdout",
          "text": [
            "dice1 in main() starts as: 10\n",
            "The Total of two Dice : 3 \n",
            "The Total of two Dice : 7 \n",
            "The Total of two Dice : 6 \n",
            "die1 in main() is: 10\n"
          ]
        }
      ],
      "source": [
        "import random\n",
        "\n",
        "def roll_dice():\n",
        "  dice1 : int = random.randint(1,6)\n",
        "  dice2 : int = random.randint(1,6)\n",
        "  total : int = dice1 + dice2\n",
        "  print(f\"The Total of two Dice : {total} \")\n",
        "\n",
        "\n",
        "def main():\n",
        "     dice1 : int = 10\n",
        "     print(\"dice1 in main() starts as: \" + str(dice1))\n",
        "     roll_dice()\n",
        "     roll_dice()\n",
        "     roll_dice()\n",
        "     print(\"die1 in main() is: \" + str(dice1))\n",
        "\n",
        "\n",
        "if __name__ == '__main__':\n",
        "    main()"
      ]
    },
    {
      "cell_type": "markdown",
      "source": [
        "#02_e=***mc2***"
      ],
      "metadata": {
        "id": "K9QH5ycmXwP5"
      }
    },
    {
      "cell_type": "code",
      "source": [
        "def energy():\n",
        "  c :float =  299792458\n",
        "  m : float = float(input(\"Enter Kilos of person:  \"))\n",
        "\n",
        "  print(\"Formula of joules of energy =\"  + \"   e = m * C^2 \")\n",
        "  print(\"m = \" + str(m) +  \" kg\")\n",
        "  print(\"C = \" + str(c) + \"  m/s\")\n",
        "  print(\"e = \" + str(m * c ** 2) + \" joules of energy!\")\n",
        "\n",
        "if __name__ == \"__main__\":\n",
        "   energy()\n"
      ],
      "metadata": {
        "colab": {
          "base_uri": "https://localhost:8080/"
        },
        "id": "eVDYWHEPbvVG",
        "outputId": "54a23883-043b-4b79-8c5b-113bc727e9a0"
      },
      "execution_count": 30,
      "outputs": [
        {
          "output_type": "stream",
          "name": "stdout",
          "text": [
            "Enter Kilos of person:  650\n",
            "Formula of joules of energy =   e = m * C^2 \n",
            "m = 650.0 kg\n",
            "C = 299792458  m/s\n",
            "e = 5.841908661789314e+19 joules of energy!\n"
          ]
        }
      ]
    },
    {
      "cell_type": "markdown",
      "source": [
        "#03_feet_to_inches"
      ],
      "metadata": {
        "id": "CTtxU2aTlLUK"
      }
    },
    {
      "cell_type": "code",
      "source": [
        "def feet_inches():\n",
        "  inche :int = 12\n",
        "  feet_num: int = int(input(\"Enter your Feet number:  \"))\n",
        "  print(f\"There are {inche * feet_num}  inches in {feet_num}  feet\")\n",
        "if __name__ == \"__main__\":\n",
        "  feet_inches()"
      ],
      "metadata": {
        "colab": {
          "base_uri": "https://localhost:8080/"
        },
        "id": "LOaVylFWlNWd",
        "outputId": "b77907d2-e6ab-453f-8841-042605bf365b"
      },
      "execution_count": 31,
      "outputs": [
        {
          "output_type": "stream",
          "name": "stdout",
          "text": [
            "Enter your Feet number:  24\n",
            "There are 288  inches in 24  feet\n"
          ]
        }
      ]
    },
    {
      "cell_type": "markdown",
      "source": [
        "#04_pythagorean_theorem"
      ],
      "metadata": {
        "id": "zWzSOameoRff"
      }
    },
    {
      "cell_type": "code",
      "source": [
        "import math\n",
        "\n",
        "#BC ** 2 = AB ** 2 + AC ** 2\n",
        "\n",
        "def triangle():\n",
        "  AB : float = float(input(\"Enter the lenght of side AB:  \"))\n",
        "  AC : float = float(input(\"Enter the lenght of side AC:  \"))\n",
        "  BC : float = math.sqrt(AB ** 2 + AC ** 2)\n",
        "  print(f\"The length of BC (the hypotenuse) is: {BC}\")\n",
        "if __name__ == \"__main__\":\n",
        "  triangle()"
      ],
      "metadata": {
        "colab": {
          "base_uri": "https://localhost:8080/"
        },
        "id": "7g0h7BzboUoh",
        "outputId": "63b1e076-d8f7-42c6-b783-9ef362b6c51a"
      },
      "execution_count": 32,
      "outputs": [
        {
          "output_type": "stream",
          "name": "stdout",
          "text": [
            "Enter the lenght of side AB:  4\n",
            "Enter the lenght of side AC:  6\n",
            "The length of BC (the hypotenuse) is: 7.211102550927978\n"
          ]
        }
      ]
    },
    {
      "cell_type": "markdown",
      "source": [
        "#05_remainder_division"
      ],
      "metadata": {
        "id": "by_LSFf-q9F7"
      }
    },
    {
      "cell_type": "code",
      "source": [
        "def reminder_division():\n",
        "  num1 :int = int(input(\"Enter an integer to be divided:  \"))\n",
        "  num2 : int = int(input(\"Enter an integer to be divided by:  \"))\n",
        "  quotient : int = num1 // num2\n",
        "  reminder : int = num1 % num2\n",
        "  print(\"The result of this division is \" + str(quotient) + \" with a remainder of \" + str(reminder))\n",
        "\n",
        "if __name__ == '__main__':\n",
        "    reminder_division()\n"
      ],
      "metadata": {
        "colab": {
          "base_uri": "https://localhost:8080/"
        },
        "id": "w1vELlkNsepU",
        "outputId": "0e2c7001-cf2e-4b28-fe90-1b814b95dae3"
      },
      "execution_count": 35,
      "outputs": [
        {
          "output_type": "stream",
          "name": "stdout",
          "text": [
            "Enter an integer to be divided:  65\n",
            "Enter an integer to be divided by:  6\n",
            "The result of this division is 10 with a remainder of 5\n"
          ]
        }
      ]
    },
    {
      "cell_type": "markdown",
      "source": [
        "#06_rolldice"
      ],
      "metadata": {
        "id": "BwMaOPJZvT2u"
      }
    },
    {
      "cell_type": "code",
      "source": [
        "import random\n",
        "\n",
        "def rolldice():\n",
        "  die1 : int = random.randint(1,6)\n",
        "  die2 : int = random.randint(1,6)\n",
        "  total_diec:int = die1 + die2\n",
        "  print(\"First die :\" + str(die1) + \" 🎲\")\n",
        "  print(\"Second die:\" + str(die2) + \" 🎲\")\n",
        "  print(f\"Total of two dice: {total_diec} 🎲\")\n",
        "\n",
        "if __name__ == '__main__':\n",
        "    rolldice()\n",
        "\n"
      ],
      "metadata": {
        "colab": {
          "base_uri": "https://localhost:8080/"
        },
        "id": "ydtF_RWIvoOU",
        "outputId": "4f742040-fc5f-4a16-88df-8c0fd7ae4c37"
      },
      "execution_count": 44,
      "outputs": [
        {
          "output_type": "stream",
          "name": "stdout",
          "text": [
            "First die :2 🎲\n",
            "Second die:2 🎲\n",
            "Total of two dice: 4 🎲\n"
          ]
        }
      ]
    },
    {
      "cell_type": "markdown",
      "source": [
        "#06_seconds_in_year"
      ],
      "metadata": {
        "id": "FdBnAekHvT6S"
      }
    },
    {
      "cell_type": "code",
      "source": [
        "\n",
        "DAYS_PER_YEAR: int = 365\n",
        "HOURS_PER_DAY: int = 24\n",
        "MIN_PER_HOUR: int = 60\n",
        "SEC_PER_MIN: int = 60\n",
        "\n",
        "def main():\n",
        "\n",
        "    print(\"There are \" + str(DAYS_PER_YEAR * HOURS_PER_DAY * MIN_PER_HOUR * SEC_PER_MIN) + \" seconds in a year!\")\n",
        "\n",
        "\n",
        "if __name__ == '__main__':\n",
        "    main()"
      ],
      "metadata": {
        "colab": {
          "base_uri": "https://localhost:8080/"
        },
        "id": "vW8v0RWA0GG7",
        "outputId": "998d5dc9-d14d-423c-8e05-dc8a2010ce75"
      },
      "execution_count": 45,
      "outputs": [
        {
          "output_type": "stream",
          "name": "stdout",
          "text": [
            "There are 31536000 seconds in a year!\n"
          ]
        }
      ]
    },
    {
      "cell_type": "markdown",
      "source": [
        "#07_tiny_mad_lib"
      ],
      "metadata": {
        "id": "s6OjNcT31eIP"
      }
    },
    {
      "cell_type": "code",
      "source": [
        "\n",
        "\n",
        "def mad_lib():\n",
        "\n",
        "\n",
        "    noun: str = input(\"Please type a noun and press enter. \")\n",
        "    verb: str = input(\"Please type a verb and press enter. \")\n",
        "    adjective: str = input(\"Please type an adjective and press enter. \")\n",
        "\n",
        "\n",
        "    print(f\"Do you have {verb} your {adjective} {noun} !\")\n",
        "\n",
        "\n",
        "# There is no need to edit code beyond this point\n",
        "\n",
        "if __name__ == '__main__':\n",
        "    mad_lib()"
      ],
      "metadata": {
        "colab": {
          "base_uri": "https://localhost:8080/"
        },
        "id": "KA2sngOx1hiR",
        "outputId": "ced7935d-c361-4b9f-c702-9bf51481162b"
      },
      "execution_count": 50,
      "outputs": [
        {
          "output_type": "stream",
          "name": "stdout",
          "text": [
            "Please type a noun and press enter. cat\n",
            "Please type a verb and press enter. sleep\n",
            "Please type an adjective and press enter. cute\n",
            "Do you have sleep your cute cat !\n"
          ]
        }
      ]
    }
  ]
}